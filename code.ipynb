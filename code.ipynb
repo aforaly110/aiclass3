{
 "cells": [
  {
   "cell_type": "code",
   "execution_count": null,
   "metadata": {},
   "outputs": [],
   "source": [
    "import cv2\n",
    "import numpy as np"
   ]
  },
  {
   "cell_type": "code",
   "execution_count": 2,
   "metadata": {},
   "outputs": [],
   "source": [
    "def is_empty(any_structure):\n",
    "    if any_structure:\n",
    "        print('Structure is not empty.')\n",
    "        return False\n",
    "    else:\n",
    "        print('Structure is empty.')\n",
    "        return True"
   ]
  },
  {
   "cell_type": "code",
   "execution_count": null,
   "metadata": {},
   "outputs": [
    {
     "name": "stdout",
     "output_type": "stream",
     "text": [
      "[[119 179  60  60]\n",
      " [226 171  60  60]]\n",
      "[[145 295 125  75]]\n",
      "[[174 246  54  45]]\n",
      "119\n",
      "226\n"
     ]
    }
   ],
   "source": [
    "region = 0\n",
    "init = cv2.imread(r'C:\\Users\\ICON\\Desktop\\FYP\\Images\\face.jpg')\n",
    "image = cv2.cvtColor(init, cv2.COLOR_BGR2GRAY)\n",
    "blank_image = 255*np.ones((512,512,3), np.uint8)\n",
    "#cv2.imshow(\"Eyes\",image)\n",
    "#image = cv2.VideoCapture(0)\n",
    "#image=img.read()\n",
    "eye_cascade = cv2.CascadeClassifier(r'C:\\Users\\ICON\\Desktop\\FYP\\haarcascade\\haarcascade_eye_tree_eyeglasses.xml')\n",
    "nose_classifier = cv2.CascadeClassifier(r'C:\\Users\\ICON\\Desktop\\FYP\\haarcascade\\haarcascade_mcs_nose.xml')\n",
    "mouth_classifier = cv2.CascadeClassifier(r'C:\\Users\\ICON\\Desktop\\FYP\\haarcascade\\haarcascade_mcs_mouth.xml')\n",
    "eyes = eye_cascade.detectMultiScale(image,scaleFactor = 3, minNeighbors=6)\n",
    "mouth = mouth_classifier.detectMultiScale(image,scaleFactor = 5, minNeighbors=6)\n",
    "nose = nose_classifier.detectMultiScale(image,scaleFactor = 3, minNeighbors=6)\n",
    "print(eyes)\n",
    "print(mouth)\n",
    "print(nose)\n",
    "sum=0\n",
    "\n",
    "try:\n",
    "    if is_empty(eyes):\n",
    "        print(\"Eyes Not Found\")\n",
    "except:\n",
    "    for (ex, ey, ew, eh) in eyes:\n",
    "        cv2.rectangle(image, (ex, ey), (ex + ew, ey + eh), (255, 255, 0), 2)\n",
    "        sum=sum+ex\n",
    "        print(ex)\n",
    "    crop_img = image[ey:ey+eh,int((sum-ex)/2):sum]\n",
    "    cv2.imshow(\"cropped\",crop_img)\n",
    "    cv2.waitKey(0)\n",
    "    # roi = cv2.selectROI(region)\n",
    "    # print(roi)\n",
    "    # imcropped = image[int(roi[1]):int(roi[1]+roi[3]),\n",
    "    #                 int(roi[0]):int(roi[0]+roi[2])]\n",
    "    # cv2.imshow(\"output\", imcropped)\n",
    "    # cv2.waitKey(0)\n",
    "\n",
    "try:\n",
    "    if is_empty(mouth):\n",
    "        print(\"Mouth Not Found\")\n",
    "except:\n",
    "    for (mx, my, mw, mh) in mouth:\n",
    "        cv2.rectangle(image, (mx, my), (mx + mw, my + mh), (0, 0, 0), 2)\n",
    "        #cv2.rectangle(image, (ex, ey), (ex + ew, ey + eh), (255, 255, 0), 2)\n",
    "try:\n",
    "    if is_empty(nose):\n",
    "        print(\"Nose Not Found\")\n",
    "except:\n",
    "    for (nx, ny, nw, nh) in nose:\n",
    "        cv2.rectangle(image, (nx, ny), (nx + nw, ny + nh), (0, 0, 255), 2)\n",
    "        #cv2.rectangle(image, (ex, ey), (ex + ew, ey + eh), (255, 255, 0), 2)\n",
    "\n",
    "#cv2.imshow(\"Eyes\",image)\n",
    "cv2.waitKey(0)"
   ]
  },
  {
   "cell_type": "code",
   "execution_count": null,
   "metadata": {},
   "outputs": [],
   "source": [
    "print(\"fadadss\")"
   ]
  },
  {
   "cell_type": "code",
   "execution_count": null,
   "metadata": {},
   "outputs": [],
   "source": [
    "print(\"fadsdas\")"
   ]
  },
  {
   "cell_type": "code",
   "execution_count": null,
   "metadata": {},
   "outputs": [],
   "source": []
  },
  {
   "cell_type": "code",
   "execution_count": null,
   "metadata": {},
   "outputs": [],
   "source": []
  },
  {
   "cell_type": "code",
   "execution_count": null,
   "metadata": {},
   "outputs": [],
   "source": []
  },
  {
   "cell_type": "code",
   "execution_count": null,
   "metadata": {},
   "outputs": [],
   "source": []
  },
  {
   "cell_type": "code",
   "execution_count": null,
   "metadata": {},
   "outputs": [],
   "source": []
  },
  {
   "cell_type": "code",
   "execution_count": null,
   "metadata": {},
   "outputs": [],
   "source": []
  },
  {
   "cell_type": "code",
   "execution_count": null,
   "metadata": {},
   "outputs": [],
   "source": [
    "\n"
   ]
  }
 ],
 "metadata": {
  "kernelspec": {
   "display_name": "Python 3",
   "language": "python",
   "name": "python3"
  },
  "language_info": {
   "codemirror_mode": {
    "name": "ipython",
    "version": 3
   },
   "file_extension": ".py",
   "mimetype": "text/x-python",
   "name": "python",
   "nbconvert_exporter": "python",
   "pygments_lexer": "ipython3",
   "version": "3.7.9"
  }
 },
 "nbformat": 4,
 "nbformat_minor": 4
}
